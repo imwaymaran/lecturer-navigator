{
 "cells": [
  {
   "cell_type": "code",
   "execution_count": 1,
   "id": "f68c31d4",
   "metadata": {},
   "outputs": [],
   "source": [
    "import os\n",
    "import sys\n",
    "\n",
    "from collections import defaultdict\n",
    "from dotenv import load_dotenv\n",
    "import re"
   ]
  },
  {
   "cell_type": "code",
   "execution_count": 2,
   "id": "a2f7c0d2",
   "metadata": {},
   "outputs": [
    {
     "data": {
      "text/plain": [
       "True"
      ]
     },
     "execution_count": 2,
     "metadata": {},
     "output_type": "execute_result"
    }
   ],
   "source": [
    "project_root = os.path.abspath(os.path.join(os.getcwd(), \"..\"))\n",
    "if project_root not in sys.path:\n",
    "    sys.path.insert(0, project_root)\n",
    "    \n",
    "from backend.pipeline import initialize_qa\n",
    "\n",
    "env_path = os.path.join(project_root, \"env\", \".env\")\n",
    "load_dotenv(env_path)"
   ]
  },
  {
   "cell_type": "code",
   "execution_count": 3,
   "id": "4aef6852",
   "metadata": {},
   "outputs": [],
   "source": [
    "qa = initialize_qa(\"../data\")"
   ]
  },
  {
   "cell_type": "code",
   "execution_count": 4,
   "id": "5c47812b",
   "metadata": {},
   "outputs": [
    {
     "name": "stdout",
     "output_type": "stream",
     "text": [
      "Answer: A neural network is a network of algorithms that is among the most powerful and complicated machine learning algorithms. It is not just one algorithm, but rather a combination of algorithms that parallel the neural connections in our mind. Neural networks involve mathematics that combines linear algebra and calculus, and they underlie many advanced algorithms, such as the model that runs ChatGPT.\n"
     ]
    }
   ],
   "source": [
    "query = \"What is a neural network?\"\n",
    "result = qa.invoke({\"query\": query})\n",
    "answer = result[\"result\"].strip()\n",
    "print(\"Answer:\", answer)"
   ]
  },
  {
   "cell_type": "code",
   "execution_count": 5,
   "id": "4a829ec8",
   "metadata": {},
   "outputs": [],
   "source": [
    "def display_answer(result):\n",
    "    \"\"\"\n",
    "    Display the answer and source slide references from a QA result.\n",
    "    \n",
    "    Prints the answer text, and if available, shows filenames and page numbers\n",
    "    of source documents cited in the response.\n",
    "    \"\"\"\n",
    "    answer = result[\"result\"].strip()\n",
    "    print(\"\\nAnswer:\\n\", answer)\n",
    "\n",
    "    normalized = re.sub(r\"[’‘]\", \"'\", answer.lower())\n",
    "    if not re.match(r\"^i don'?t know[\\.\\!\\s]*$\", normalized):\n",
    "        print(\"\\nSources:\")\n",
    "        source_map = defaultdict(set)\n",
    "        for doc in result[\"source_documents\"]:\n",
    "            filename = os.path.basename(doc.metadata.get(\"source\", \"\"))\n",
    "            page = doc.metadata.get(\"page\", \"?\")\n",
    "            try:\n",
    "                page = int(page) + 1\n",
    "            except:\n",
    "                pass\n",
    "            source_map[filename].add(page)\n",
    "\n",
    "        for file, pages in source_map.items():\n",
    "            print(f\"- {file} — slides {', '.join(map(str, sorted(pages)))}\")\n",
    "    else:\n",
    "        print(\"No answer found.\")\n"
   ]
  },
  {
   "cell_type": "code",
   "execution_count": 6,
   "id": "48a2afcb",
   "metadata": {},
   "outputs": [],
   "source": [
    "questions = [\n",
    "    \"What is a neuron?\",\n",
    "    \"What are the applications of Neural Networks?\",\n",
    "    \"What is z?\",\n",
    "    \"What are other Options for Gradient Descent?\",\n",
    "    \"Can you show me a deep neural network diagram?\",\n",
    "    \"What’s in your mind?\",\n",
    "    \"Can you provide all the links in - Introduction to Neural Networks pdf?\",\n",
    "    \"Explain how perceptrons handle binary categories\",\n",
    "    \"What are Epochs?\",\n",
    "    \"What is TKH?\"\n",
    "]"
   ]
  },
  {
   "cell_type": "code",
   "execution_count": 7,
   "id": "22a1badc",
   "metadata": {},
   "outputs": [
    {
     "name": "stdout",
     "output_type": "stream",
     "text": [
      "\n",
      "1. Question: What is a neuron?\n",
      "\n",
      "Answer:\n",
      " A neuron is a cell that takes input and provides output via electrical signals (action potential) once a certain threshold potential is crossed.\n",
      "\n",
      "Sources:\n",
      "- Introduction to Neural Networks.pdf — slides 7, 8, 9, 22\n",
      "\n",
      "2. Question: What are the applications of Neural Networks?\n",
      "\n",
      "Answer:\n",
      " The applications of Neural Networks include:\n",
      "\n",
      "- Image recognition via Convolutional Nets\n",
      "- Time series prediction via Long-Short Term Memory Nets\n",
      "- Embedding generation via Word2Vec\n",
      "- Word prediction via Transformers\n",
      "- Computer vision\n",
      "- Numeric prediction\n",
      "- Classification\n",
      "- Natural language processing\n",
      "\n",
      "Sources:\n",
      "- Introduction to Neural Networks.pdf — slides 16, 17\n",
      "- Applied Rest APIs II.pptx.pdf — slides 22, 23\n",
      "\n",
      "3. Question: What is z?\n",
      "\n",
      "Answer:\n",
      " I don’t know.\n",
      "No answer found.\n",
      "\n",
      "4. Question: What are other Options for Gradient Descent?\n",
      "\n",
      "Answer:\n",
      " Other options for gradient descent include stochastic gradient descent and mini-batch gradient descent. Both are more cost-effective and lead to approximately the same optimum.\n",
      "\n",
      "Sources:\n",
      "- Introduction to Neural Networks.pdf — slides 34, 50, 51\n",
      "- Random Forests.pdf — slides 56\n",
      "\n",
      "5. Question: Can you show me a deep neural network diagram?\n",
      "\n",
      "Answer:\n",
      " I don’t know.\n",
      "No answer found.\n",
      "\n",
      "6. Question: What’s in your mind?\n",
      "\n",
      "Answer:\n",
      " I don’t know.\n",
      "No answer found.\n",
      "\n",
      "7. Question: Can you provide all the links in - Introduction to Neural Networks pdf?\n",
      "\n",
      "Answer:\n",
      " I don’t know.\n",
      "No answer found.\n",
      "\n",
      "8. Question: Explain how perceptrons handle binary categories\n",
      "\n",
      "Answer:\n",
      " Perceptrons handle binary categories by using learned weights and inputs to calculate a summed value. This value determines whether the neuron activates (indicating one category) or fails to activate (indicating the other category). Essentially, a perceptron acts like an \"on and off\" switch, classifying inputs into two distinct categories, such as \"present\" or \"not present.\"\n",
      "\n",
      "Sources:\n",
      "- Introduction to Neural Networks.pdf — slides 24, 31\n",
      "- Bayes Theorem Review.pdf — slides 28, 29\n",
      "\n",
      "9. Question: What are Epochs?\n",
      "\n",
      "Answer:\n",
      " Epochs are a hyperparameter that indicates how many times the training process will update the model's weights during training. They represent the number of complete passes through the training dataset.\n",
      "\n",
      "Sources:\n",
      "- Introduction to Neural Networks.pdf — slides 55, 58, 59, 62\n",
      "\n",
      "10. Question: What is TKH?\n",
      "\n",
      "Answer:\n",
      " I don’t know.\n",
      "No answer found.\n"
     ]
    }
   ],
   "source": [
    "for i, q in enumerate(questions, 1):\n",
    "    print(f\"\\n{i}. Question: {q}\")\n",
    "    result = qa.invoke({\"query\": q})\n",
    "    display_answer(result)"
   ]
  }
 ],
 "metadata": {
  "kernelspec": {
   "display_name": "lecture-navigator",
   "language": "python",
   "name": "python3"
  },
  "language_info": {
   "codemirror_mode": {
    "name": "ipython",
    "version": 3
   },
   "file_extension": ".py",
   "mimetype": "text/x-python",
   "name": "python",
   "nbconvert_exporter": "python",
   "pygments_lexer": "ipython3",
   "version": "3.11.13"
  }
 },
 "nbformat": 4,
 "nbformat_minor": 5
}
